{
  "nbformat": 4,
  "nbformat_minor": 0,
  "metadata": {
    "jupytext": {
      "formats": "ipynb,py:light"
    },
    "kernelspec": {
      "display_name": "Python 3",
      "language": "python",
      "name": "python3"
    },
    "language_info": {
      "codemirror_mode": {
        "name": "ipython",
        "version": 3
      },
      "file_extension": ".py",
      "mimetype": "text/x-python",
      "name": "python",
      "nbconvert_exporter": "python",
      "pygments_lexer": "ipython3",
      "version": "3.6.4"
    },
    "colab": {
      "name": "4-Plotting.ipynb",
      "provenance": [],
      "include_colab_link": true
    }
  },
  "cells": [
    {
      "cell_type": "markdown",
      "metadata": {
        "id": "view-in-github",
        "colab_type": "text"
      },
      "source": [
        "<a href=\"https://colab.research.google.com/github/yslvm/cs65/blob/main/4_Plotting.ipynb\" target=\"_parent\"><img src=\"https://colab.research.google.com/assets/colab-badge.svg\" alt=\"Open In Colab\"/></a>"
      ]
    },
    {
      "cell_type": "code",
      "metadata": {
        "id": "FS1w47EZTVT6"
      },
      "source": [
        "%matplotlib inline\n",
        "import matplotlib.pyplot as plt\n",
        "import pandas as pd\n",
        "import seaborn as sns\n",
        "\n",
        "import io\n",
        "import urllib.request as req\n",
        "import zipfile"
      ],
      "execution_count": null,
      "outputs": []
    },
    {
      "cell_type": "code",
      "metadata": {
        "id": "W8WQ0x0eTVUB",
        "colab": {
          "base_uri": "https://localhost:8080/"
        },
        "outputId": "8702ce05-cf73-46a0-dd21-7adfb144ee44"
      },
      "source": [
        "def tweak_kag(df):\n",
        "    na_mask = df.Q9.isna()\n",
        "    hide_mask = df.Q9.str.startswith('I do not').fillna(False)\n",
        "    df = df[~na_mask & ~hide_mask]\n",
        "    \n",
        "    q1 = (df.Q1\n",
        "      .replace({'Prefer not to say': 'Another',\n",
        "               'Prefer to self-describe': 'Another'})\n",
        "      .rename('Gender')\n",
        "    )\n",
        "    q2 = df.Q2.str.slice(0,2).astype(int).rename('Age')\n",
        "    def limit_countries(val):\n",
        "        if val in  {'United States of America', 'India', 'China'}:\n",
        "            return val\n",
        "        return 'Another'\n",
        "    q3 = df.Q3.apply(limit_countries).rename('Country')\n",
        "   \n",
        "    q4 = (df.Q4\n",
        "     .replace({'Master’s degree': 18,\n",
        "     'Bachelor’s degree': 16,\n",
        "     'Doctoral degree': 20,\n",
        "     'Some college/university study without earning a bachelor’s degree': 13,\n",
        "     'Professional degree': 19,\n",
        "     'I prefer not to answer': None,\n",
        "     'No formal education past high school': 12})\n",
        "     .fillna(11)\n",
        "     .rename('Edu')\n",
        "    )\n",
        "    \n",
        "    def only_cs_stat_val(val):\n",
        "        if val not in {'cs', 'eng', 'stat'}:\n",
        "            return 'another'\n",
        "        return val\n",
        "\n",
        "    q5 = (df.Q5\n",
        "            .replace({\n",
        "                'Computer science (software engineering, etc.)': 'cs',\n",
        "                'Engineering (non-computer focused)': 'eng',\n",
        "                'Mathematics or statistics': 'stat'})\n",
        "             .apply(only_cs_stat_val)\n",
        "             .rename('Studies'))\n",
        "    def limit_occupation(val):\n",
        "        if val in {'Student', 'Data Scientist', 'Software Engineer', 'Not employed',\n",
        "                  'Data Engineer'}:\n",
        "            return val\n",
        "        return 'Another'\n",
        "\n",
        "    q6 = df.Q6.apply(limit_occupation).rename('Occupation')\n",
        "    \n",
        "    q8 = (df.Q8\n",
        "      .str.replace('+', '')\n",
        "      .str.split('-', expand=True)\n",
        "      .iloc[:,0]\n",
        "      .fillna(-1)\n",
        "      .astype(int)\n",
        "      .rename('Experience')\n",
        "    )\n",
        "    \n",
        "    q9 = (df.Q9\n",
        "     .str.replace('+','')\n",
        "     .str.replace(',','')\n",
        "     .str.replace('500000', '500')\n",
        "     .str.replace('I do not wish to disclose my approximate yearly compensation','')\n",
        "     .str.split('-', expand=True)\n",
        "     .iloc[:,0]\n",
        "     .astype(int)\n",
        "     .mul(1000)\n",
        "     .rename('Salary'))\n",
        "    return pd.concat([q1, q2, q3, q4, q5, q6, q8, q9], axis=1)\n",
        "\n",
        "# https://www.kaggle.com/kaggle/kaggle-survey-2018\n",
        "url = 'https://github.com/mattharrison/datasets/raw/master/data/kaggle-survey-2018.zip'\n",
        "fin = req.urlopen(url)\n",
        "\n",
        "with zipfile.ZipFile(io.BytesIO(fin.read())) as z:\n",
        "    print(z.namelist())\n",
        "    kag = pd.read_csv(z.open('multipleChoiceResponses.csv'))\n",
        "    kag_questions = kag.iloc[0]\n",
        "    df = kag.iloc[1:]\n",
        "    \n",
        "df = tweak_kag(df)"
      ],
      "execution_count": null,
      "outputs": [
        {
          "output_type": "stream",
          "name": "stdout",
          "text": [
            "['multipleChoiceResponses.csv', 'freeFormResponses.csv', 'SurveySchema.csv']\n"
          ]
        },
        {
          "output_type": "stream",
          "name": "stderr",
          "text": [
            "/usr/local/lib/python3.7/dist-packages/IPython/core/interactiveshell.py:2718: DtypeWarning: Columns (0,2,8,10,21,23,24,25,26,27,28,44,56,64,83,85,87,107,109,123,125,150,157,172,174,194,210,218,219,223,246,249,262,264,276,277,278,279,280,281,282,283,284,285,286,287,288,289,290,304,306,325,326,329,341,368,371,384,385,389,390,391,393,394) have mixed types.Specify dtype option on import or set low_memory=False.\n",
            "  interactivity=interactivity, compiler=compiler, result=result)\n"
          ]
        }
      ]
    },
    {
      "cell_type": "code",
      "metadata": {
        "id": "blJbHhOETVUM"
      },
      "source": [
        "ax = sns.boxplot(x='Occupation', y='Salary', data=df)"
      ],
      "execution_count": null,
      "outputs": []
    },
    {
      "cell_type": "code",
      "metadata": {
        "id": "prHJAelJTVUU"
      },
      "source": [
        "# seaborn is built on matplot lib\n",
        "# let's increase the size\n",
        "fig, ax = plt.subplots(figsize=(10, 8))\n",
        "sns.boxplot(x='Occupation', y='Salary', data=df, ax=ax)"
      ],
      "execution_count": null,
      "outputs": []
    },
    {
      "cell_type": "code",
      "metadata": {
        "id": "nQcW8BNpTVUZ"
      },
      "source": [
        "# seaborn is built on matplot lib\n",
        "# rotate text\n",
        "fig, ax = plt.subplots(figsize=(10, 8))\n",
        "sns.boxplot(x='Occupation', y='Salary', data=df, ax=ax)\n",
        "ax.tick_params(axis='x', labelrotation=45)"
      ],
      "execution_count": null,
      "outputs": []
    },
    {
      "cell_type": "code",
      "metadata": {
        "id": "fpZuuyQufZvf"
      },
      "source": [
        ""
      ],
      "execution_count": null,
      "outputs": []
    },
    {
      "cell_type": "code",
      "metadata": {
        "id": "SQ-68jjFTVUh"
      },
      "source": [
        "# Current style\n",
        "sns.axes_style()"
      ],
      "execution_count": null,
      "outputs": []
    },
    {
      "cell_type": "code",
      "metadata": {
        "id": "rNx6adSCTVUn"
      },
      "source": [
        "# seaborn is built on matplot lib\n",
        "# change looks\n",
        "with sns.axes_style('dark'):\n",
        "    fig, ax = plt.subplots(figsize=(10, 8))\n",
        "    sns.boxplot(x='Occupation', y='Salary', data=df, ax=ax)\n",
        "    ax.tick_params(axis='x', labelrotation=45)"
      ],
      "execution_count": null,
      "outputs": []
    },
    {
      "cell_type": "code",
      "metadata": {
        "id": "jU_KkeYJTVUu"
      },
      "source": [
        "# seaborn is built on matplot lib\n",
        "# change facecolor`\n",
        "with sns.axes_style('dark', {'axes.facecolor':'pink'}):\n",
        "    fig, ax = plt.subplots(figsize=(10, 8))\n",
        "    sns.boxplot(x='Occupation', y='Salary', data=df, ax=ax)\n",
        "    ax.tick_params(axis='x', labelrotation=45)"
      ],
      "execution_count": null,
      "outputs": []
    },
    {
      "cell_type": "code",
      "metadata": {
        "id": "h3u3xgdCTVVC"
      },
      "source": [
        "# seaborn is built on matplot lib\n",
        "# change size\n",
        "with sns.plotting_context('poster'):\n",
        "    with sns.axes_style('dark', {'axes.facecolor':'pink'}):\n",
        "        fig, ax = plt.subplots(figsize=(10, 8))\n",
        "        sns.boxplot(x='Occupation', y='Salary', data=df, ax=ax)\n",
        "        ax.tick_params(axis='x', labelrotation=45)"
      ],
      "execution_count": null,
      "outputs": []
    },
    {
      "cell_type": "code",
      "metadata": {
        "id": "vBDe08w0TVV3"
      },
      "source": [
        "# seaborn is built on matplot lib\n",
        "# save image\n",
        "with sns.plotting_context('poster'):\n",
        "    with sns.axes_style('dark', {'axes.facecolor':'pink'}):\n",
        "        fig, ax = plt.subplots(figsize=(10, 8))\n",
        "        sns.boxplot(x='Occupation', y='Salary', data=df, ax=ax)\n",
        "        ax.tick_params(axis='x', labelrotation=45)\n",
        "fig.savefig('/tmp/box.png', dpi=300)"
      ],
      "execution_count": null,
      "outputs": []
    },
    {
      "cell_type": "code",
      "metadata": {
        "id": "7aCEfco-TVWX"
      },
      "source": [
        "# Current colors\n",
        "sns.palplot(sns.color_palette())"
      ],
      "execution_count": null,
      "outputs": []
    },
    {
      "cell_type": "code",
      "metadata": {
        "id": "agZmqZSdTVWv"
      },
      "source": [
        "# Colors for categories\n",
        "sns.palplot(sns.color_palette('husl', n_colors=7))"
      ],
      "execution_count": null,
      "outputs": []
    },
    {
      "cell_type": "code",
      "metadata": {
        "id": "LR0VrJnQTVW3"
      },
      "source": [
        "# Colors for diverging data (heatmap of correlation)\n",
        "sns.palplot(sns.color_palette('RdBu', n_colors=30))"
      ],
      "execution_count": null,
      "outputs": []
    },
    {
      "cell_type": "code",
      "metadata": {
        "id": "JzbYdvzrTVXI"
      },
      "source": [
        "# Colors for sequential data (ordinal)\n",
        "sns.palplot(sns.color_palette('Blues'))"
      ],
      "execution_count": null,
      "outputs": []
    },
    {
      "cell_type": "code",
      "metadata": {
        "id": "L2mtAlFTTVXa"
      },
      "source": [
        "# Chooser 'sequential', 'diverging', 'qualitative'\n",
        "sns.choose_colorbrewer_palette('diverging')"
      ],
      "execution_count": null,
      "outputs": []
    },
    {
      "cell_type": "code",
      "metadata": {
        "id": "I9BnJN31TVXf"
      },
      "source": [
        "# use the Dark2 color palette\n",
        "with sns.color_palette('RdGy'):\n",
        "    with sns.plotting_context('poster'):\n",
        "        with sns.axes_style('dark', {'axes.facecolor':'white'}):\n",
        "            fig, ax = plt.subplots(figsize=(10, 8))\n",
        "            sns.boxplot(x='Occupation', y='Salary', data=df, ax=ax)\n",
        "            ax.tick_params(axis='x', labelrotation=45)"
      ],
      "execution_count": null,
      "outputs": []
    },
    {
      "cell_type": "code",
      "metadata": {
        "id": "c_wPDZmCTVXu"
      },
      "source": [
        "# custom color palette\n",
        "bad = ['#c07fef', '#deadbe', '#fef70c', '#112233', '#332211']\n",
        "with sns.color_palette(bad):\n",
        "    with sns.plotting_context('poster'):\n",
        "        with sns.axes_style('dark', {'axes.facecolor':'white'}):\n",
        "            fig, ax = plt.subplots(figsize=(10, 8))\n",
        "            sns.boxplot(x='Occupation', y='Salary', data=df, ax=ax)\n",
        "            ax.tick_params(axis='x', labelrotation=45)"
      ],
      "execution_count": null,
      "outputs": []
    },
    {
      "cell_type": "code",
      "metadata": {
        "id": "2WBFQBaaUvt5"
      },
      "source": [
        ""
      ],
      "execution_count": null,
      "outputs": []
    }
  ]
}